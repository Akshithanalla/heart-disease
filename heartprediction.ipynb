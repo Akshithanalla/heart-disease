{
  "nbformat": 4,
  "nbformat_minor": 0,
  "metadata": {
    "colab": {
      "name": "DT.ipynb",
      "provenance": [],
      "collapsed_sections": []
    },
    "kernelspec": {
      "name": "python3",
      "display_name": "Python 3"
    },
    "language_info": {
      "name": "python"
    }
  },
  "cells": [
    {
      "cell_type": "code",
      "execution_count": 1,
      "metadata": {
        "id": "SEXyxoWZHIzg"
      },
      "outputs": [],
      "source": [
        ""
      ]
    },
    {
      "cell_type": "code",
      "source": [
        "from google.colab import drive\n",
        "drive.mount('/content/drive')"
      ],
      "metadata": {
        "colab": {
          "base_uri": "https://localhost:8080/"
        },
        "id": "LShEA4CEH8kU",
        "outputId": "6e7c696c-3628-4097-d817-c509de2b47dc"
      },
      "execution_count": 2,
      "outputs": [
        {
          "output_type": "stream",
          "name": "stdout",
          "text": [
            "Drive already mounted at /content/drive; to attempt to forcibly remount, call drive.mount(\"/content/drive\", force_remount=True).\n"
          ]
        }
      ]
    },
    {
      "cell_type": "code",
      "source": [
        "import pandas as pd\n",
        "d=pd.read_csv('/content/drive/MyDrive/ heart.csv')"
      ],
      "metadata": {
        "id": "TfH0z01mIfx4"
      },
      "execution_count": 3,
      "outputs": []
    },
    {
      "cell_type": "code",
      "source": [
        "print(d)"
      ],
      "metadata": {
        "colab": {
          "base_uri": "https://localhost:8080/"
        },
        "id": "tn7xXPY_Ipze",
        "outputId": "c82540d7-c31f-4461-8a9a-b01fd779d0f5"
      },
      "execution_count": 4,
      "outputs": [
        {
          "output_type": "stream",
          "name": "stdout",
          "text": [
            "     age  sex  cp  trestbps  chol  fbs  restecg  thalach  exang  oldpeak  \\\n",
            "0     63    1   3       145   233    1        0      150      0      2.3   \n",
            "1     37    1   2       130   250    0        1      187      0      3.5   \n",
            "2     41    0   1       130   204    0        0      172      0      1.4   \n",
            "3     56    1   1       120   236    0        1      178      0      0.8   \n",
            "4     57    0   0       120   354    0        1      163      1      0.6   \n",
            "..   ...  ...  ..       ...   ...  ...      ...      ...    ...      ...   \n",
            "298   57    0   0       140   241    0        1      123      1      0.2   \n",
            "299   45    1   3       110   264    0        1      132      0      1.2   \n",
            "300   68    1   0       144   193    1        1      141      0      3.4   \n",
            "301   57    1   0       130   131    0        1      115      1      1.2   \n",
            "302   57    0   1       130   236    0        0      174      0      0.0   \n",
            "\n",
            "     slope  ca  thal  target  \n",
            "0        0   0     1       1  \n",
            "1        0   0     2       1  \n",
            "2        2   0     2       1  \n",
            "3        2   0     2       1  \n",
            "4        2   0     2       1  \n",
            "..     ...  ..   ...     ...  \n",
            "298      1   0     3       0  \n",
            "299      1   0     3       0  \n",
            "300      1   2     3       0  \n",
            "301      1   1     3       0  \n",
            "302      1   1     2       0  \n",
            "\n",
            "[303 rows x 14 columns]\n"
          ]
        }
      ]
    },
    {
      "cell_type": "code",
      "source": [
        "y=d.iloc[:,13:14]\n",
        "x=d.iloc[:,0:13]\n",
        "from sklearn.model_selection import train_test_split\n",
        "x_train,x_test,y_train,y_test=train_test_split(x,y,test_size=0.20,random_state=30)"
      ],
      "metadata": {
        "id": "OT4BAB37IuJI"
      },
      "execution_count": 5,
      "outputs": []
    },
    {
      "cell_type": "code",
      "source": [
        "print(x_train)"
      ],
      "metadata": {
        "colab": {
          "base_uri": "https://localhost:8080/"
        },
        "id": "QGVWq0-AIuFu",
        "outputId": "3787afe4-d820-48b5-e8f5-f220e5b1a628"
      },
      "execution_count": 6,
      "outputs": [
        {
          "output_type": "stream",
          "name": "stdout",
          "text": [
            "     age  sex  cp  trestbps  chol  fbs  restecg  thalach  exang  oldpeak  \\\n",
            "26    59    1   2       150   212    1        1      157      0      1.6   \n",
            "87    46    1   1       101   197    1        1      156      0      0.0   \n",
            "40    51    0   2       140   308    0        0      142      0      1.5   \n",
            "128   52    0   2       136   196    0        0      169      0      0.1   \n",
            "12    49    1   1       130   266    0        1      171      0      0.6   \n",
            "..   ...  ...  ..       ...   ...  ...      ...      ...    ...      ...   \n",
            "145   70    1   1       156   245    0        0      143      0      0.0   \n",
            "251   43    1   0       132   247    1        0      143      1      0.1   \n",
            "140   51    0   2       120   295    0        0      157      0      0.6   \n",
            "301   57    1   0       130   131    0        1      115      1      1.2   \n",
            "293   67    1   2       152   212    0        0      150      0      0.8   \n",
            "\n",
            "     slope  ca  thal  \n",
            "26       2   0     2  \n",
            "87       2   0     3  \n",
            "40       2   1     2  \n",
            "128      1   0     2  \n",
            "12       2   0     2  \n",
            "..     ...  ..   ...  \n",
            "145      2   0     2  \n",
            "251      1   4     3  \n",
            "140      2   0     2  \n",
            "301      1   1     3  \n",
            "293      1   0     3  \n",
            "\n",
            "[242 rows x 13 columns]\n"
          ]
        }
      ]
    },
    {
      "cell_type": "code",
      "source": [
        "from pandas.core.dtypes.cast import construct_1d_object_array_from_listlike\n",
        "from sklearn.tree import DecisionTreeClassifier\n",
        "from sklearn.metrics import accuracy_score\n",
        "cls=DecisionTreeClassifier()\n",
        "cc1=cls.fit(x_train,y_train)"
      ],
      "metadata": {
        "id": "10J-6PGlLHkJ"
      },
      "execution_count": 7,
      "outputs": []
    },
    {
      "cell_type": "code",
      "source": [
        "yt=cc1.predict(x_test)\n",
        "print(accuracy_score(yt,y_test))"
      ],
      "metadata": {
        "colab": {
          "base_uri": "https://localhost:8080/"
        },
        "id": "_PGxOHvgLoA6",
        "outputId": "de905f18-d492-44a3-abdb-eab4045df0e7"
      },
      "execution_count": 8,
      "outputs": [
        {
          "output_type": "stream",
          "name": "stdout",
          "text": [
            "0.7704918032786885\n"
          ]
        }
      ]
    },
    {
      "cell_type": "code",
      "source": [
        "from sklearn import tree\n",
        "tree.plot_tree(cc1,filled=True)"
      ],
      "metadata": {
        "colab": {
          "base_uri": "https://localhost:8080/",
          "height": 1000
        },
        "id": "M-6D8afAchRn",
        "outputId": "d0fd63c3-967e-4bfd-b0be-88a4fa21b3cc"
      },
      "execution_count": 9,
      "outputs": [
        {
          "output_type": "execute_result",
          "data": {
            "text/plain": [
              "[Text(0.4744318181818182, 0.9444444444444444, 'X[2] <= 0.5\\ngini = 0.498\\nsamples = 242\\nvalue = [114, 128]'),\n",
              " Text(0.2784090909090909, 0.8333333333333334, 'X[11] <= 0.5\\ngini = 0.387\\nsamples = 118\\nvalue = [87, 31]'),\n",
              " Text(0.17045454545454544, 0.7222222222222222, 'X[12] <= 2.5\\ngini = 0.5\\nsamples = 55\\nvalue = [28, 27]'),\n",
              " Text(0.09090909090909091, 0.6111111111111112, 'X[8] <= 0.5\\ngini = 0.404\\nsamples = 32\\nvalue = [9, 23]'),\n",
              " Text(0.045454545454545456, 0.5, 'X[7] <= 96.5\\ngini = 0.18\\nsamples = 20\\nvalue = [2, 18]'),\n",
              " Text(0.022727272727272728, 0.3888888888888889, 'gini = 0.0\\nsamples = 1\\nvalue = [1, 0]'),\n",
              " Text(0.06818181818181818, 0.3888888888888889, 'X[4] <= 316.5\\ngini = 0.1\\nsamples = 19\\nvalue = [1, 18]'),\n",
              " Text(0.045454545454545456, 0.2777777777777778, 'gini = 0.0\\nsamples = 17\\nvalue = [0, 17]'),\n",
              " Text(0.09090909090909091, 0.2777777777777778, 'X[10] <= 1.5\\ngini = 0.5\\nsamples = 2\\nvalue = [1, 1]'),\n",
              " Text(0.06818181818181818, 0.16666666666666666, 'gini = 0.0\\nsamples = 1\\nvalue = [0, 1]'),\n",
              " Text(0.11363636363636363, 0.16666666666666666, 'gini = 0.0\\nsamples = 1\\nvalue = [1, 0]'),\n",
              " Text(0.13636363636363635, 0.5, 'X[6] <= 0.5\\ngini = 0.486\\nsamples = 12\\nvalue = [7, 5]'),\n",
              " Text(0.11363636363636363, 0.3888888888888889, 'gini = 0.0\\nsamples = 4\\nvalue = [0, 4]'),\n",
              " Text(0.1590909090909091, 0.3888888888888889, 'X[10] <= 1.5\\ngini = 0.219\\nsamples = 8\\nvalue = [7, 1]'),\n",
              " Text(0.13636363636363635, 0.2777777777777778, 'gini = 0.0\\nsamples = 7\\nvalue = [7, 0]'),\n",
              " Text(0.18181818181818182, 0.2777777777777778, 'gini = 0.0\\nsamples = 1\\nvalue = [0, 1]'),\n",
              " Text(0.25, 0.6111111111111112, 'X[9] <= 0.45\\ngini = 0.287\\nsamples = 23\\nvalue = [19, 4]'),\n",
              " Text(0.22727272727272727, 0.5, 'X[0] <= 42.0\\ngini = 0.5\\nsamples = 8\\nvalue = [4, 4]'),\n",
              " Text(0.20454545454545456, 0.3888888888888889, 'gini = 0.0\\nsamples = 3\\nvalue = [3, 0]'),\n",
              " Text(0.25, 0.3888888888888889, 'X[4] <= 233.5\\ngini = 0.32\\nsamples = 5\\nvalue = [1, 4]'),\n",
              " Text(0.22727272727272727, 0.2777777777777778, 'gini = 0.0\\nsamples = 4\\nvalue = [0, 4]'),\n",
              " Text(0.2727272727272727, 0.2777777777777778, 'gini = 0.0\\nsamples = 1\\nvalue = [1, 0]'),\n",
              " Text(0.2727272727272727, 0.5, 'gini = 0.0\\nsamples = 15\\nvalue = [15, 0]'),\n",
              " Text(0.38636363636363635, 0.7222222222222222, 'X[0] <= 63.5\\ngini = 0.119\\nsamples = 63\\nvalue = [59, 4]'),\n",
              " Text(0.3409090909090909, 0.6111111111111112, 'X[4] <= 301.5\\ngini = 0.038\\nsamples = 51\\nvalue = [50, 1]'),\n",
              " Text(0.3181818181818182, 0.5, 'gini = 0.0\\nsamples = 43\\nvalue = [43, 0]'),\n",
              " Text(0.36363636363636365, 0.5, 'X[4] <= 306.0\\ngini = 0.219\\nsamples = 8\\nvalue = [7, 1]'),\n",
              " Text(0.3409090909090909, 0.3888888888888889, 'gini = 0.0\\nsamples = 1\\nvalue = [0, 1]'),\n",
              " Text(0.38636363636363635, 0.3888888888888889, 'gini = 0.0\\nsamples = 7\\nvalue = [7, 0]'),\n",
              " Text(0.4318181818181818, 0.6111111111111112, 'X[6] <= 0.5\\ngini = 0.375\\nsamples = 12\\nvalue = [9, 3]'),\n",
              " Text(0.4090909090909091, 0.5, 'gini = 0.0\\nsamples = 7\\nvalue = [7, 0]'),\n",
              " Text(0.45454545454545453, 0.5, 'X[3] <= 137.0\\ngini = 0.48\\nsamples = 5\\nvalue = [2, 3]'),\n",
              " Text(0.4318181818181818, 0.3888888888888889, 'gini = 0.0\\nsamples = 3\\nvalue = [0, 3]'),\n",
              " Text(0.4772727272727273, 0.3888888888888889, 'gini = 0.0\\nsamples = 2\\nvalue = [2, 0]'),\n",
              " Text(0.6704545454545454, 0.8333333333333334, 'X[9] <= 2.6\\ngini = 0.341\\nsamples = 124\\nvalue = [27, 97]'),\n",
              " Text(0.6477272727272727, 0.7222222222222222, 'X[0] <= 56.5\\ngini = 0.301\\nsamples = 119\\nvalue = [22, 97]'),\n",
              " Text(0.5227272727272727, 0.6111111111111112, 'X[4] <= 153.0\\ngini = 0.147\\nsamples = 75\\nvalue = [6, 69]'),\n",
              " Text(0.5, 0.5, 'gini = 0.0\\nsamples = 1\\nvalue = [1, 0]'),\n",
              " Text(0.5454545454545454, 0.5, 'X[3] <= 172.0\\ngini = 0.126\\nsamples = 74\\nvalue = [5, 69]'),\n",
              " Text(0.5227272727272727, 0.3888888888888889, 'X[3] <= 111.0\\ngini = 0.104\\nsamples = 73\\nvalue = [4, 69]'),\n",
              " Text(0.4772727272727273, 0.2777777777777778, 'X[4] <= 228.0\\ngini = 0.444\\nsamples = 9\\nvalue = [3, 6]'),\n",
              " Text(0.45454545454545453, 0.16666666666666666, 'gini = 0.0\\nsamples = 6\\nvalue = [0, 6]'),\n",
              " Text(0.5, 0.16666666666666666, 'gini = 0.0\\nsamples = 3\\nvalue = [3, 0]'),\n",
              " Text(0.5681818181818182, 0.2777777777777778, 'X[12] <= 1.5\\ngini = 0.031\\nsamples = 64\\nvalue = [1, 63]'),\n",
              " Text(0.5454545454545454, 0.16666666666666666, 'X[0] <= 54.5\\ngini = 0.444\\nsamples = 3\\nvalue = [1, 2]'),\n",
              " Text(0.5227272727272727, 0.05555555555555555, 'gini = 0.0\\nsamples = 2\\nvalue = [0, 2]'),\n",
              " Text(0.5681818181818182, 0.05555555555555555, 'gini = 0.0\\nsamples = 1\\nvalue = [1, 0]'),\n",
              " Text(0.5909090909090909, 0.16666666666666666, 'gini = 0.0\\nsamples = 61\\nvalue = [0, 61]'),\n",
              " Text(0.5681818181818182, 0.3888888888888889, 'gini = 0.0\\nsamples = 1\\nvalue = [1, 0]'),\n",
              " Text(0.7727272727272727, 0.6111111111111112, 'X[1] <= 0.5\\ngini = 0.463\\nsamples = 44\\nvalue = [16, 28]'),\n",
              " Text(0.6590909090909091, 0.5, 'X[0] <= 62.5\\ngini = 0.266\\nsamples = 19\\nvalue = [3, 16]'),\n",
              " Text(0.6363636363636364, 0.3888888888888889, 'X[11] <= 0.5\\ngini = 0.49\\nsamples = 7\\nvalue = [3, 4]'),\n",
              " Text(0.6136363636363636, 0.2777777777777778, 'gini = 0.0\\nsamples = 3\\nvalue = [0, 3]'),\n",
              " Text(0.6590909090909091, 0.2777777777777778, 'X[3] <= 116.0\\ngini = 0.375\\nsamples = 4\\nvalue = [3, 1]'),\n",
              " Text(0.6363636363636364, 0.16666666666666666, 'gini = 0.0\\nsamples = 1\\nvalue = [0, 1]'),\n",
              " Text(0.6818181818181818, 0.16666666666666666, 'gini = 0.0\\nsamples = 3\\nvalue = [3, 0]'),\n",
              " Text(0.6818181818181818, 0.3888888888888889, 'gini = 0.0\\nsamples = 12\\nvalue = [0, 12]'),\n",
              " Text(0.8863636363636364, 0.5, 'X[4] <= 245.5\\ngini = 0.499\\nsamples = 25\\nvalue = [13, 12]'),\n",
              " Text(0.8181818181818182, 0.3888888888888889, 'X[11] <= 0.5\\ngini = 0.391\\nsamples = 15\\nvalue = [4, 11]'),\n",
              " Text(0.75, 0.2777777777777778, 'X[0] <= 65.5\\ngini = 0.198\\nsamples = 9\\nvalue = [1, 8]'),\n",
              " Text(0.7272727272727273, 0.16666666666666666, 'gini = 0.0\\nsamples = 7\\nvalue = [0, 7]'),\n",
              " Text(0.7727272727272727, 0.16666666666666666, 'X[7] <= 146.5\\ngini = 0.5\\nsamples = 2\\nvalue = [1, 1]'),\n",
              " Text(0.75, 0.05555555555555555, 'gini = 0.0\\nsamples = 1\\nvalue = [0, 1]'),\n",
              " Text(0.7954545454545454, 0.05555555555555555, 'gini = 0.0\\nsamples = 1\\nvalue = [1, 0]'),\n",
              " Text(0.8863636363636364, 0.2777777777777778, 'X[12] <= 2.5\\ngini = 0.5\\nsamples = 6\\nvalue = [3, 3]'),\n",
              " Text(0.8636363636363636, 0.16666666666666666, 'X[0] <= 64.0\\ngini = 0.375\\nsamples = 4\\nvalue = [3, 1]'),\n",
              " Text(0.8409090909090909, 0.05555555555555555, 'gini = 0.0\\nsamples = 3\\nvalue = [3, 0]'),\n",
              " Text(0.8863636363636364, 0.05555555555555555, 'gini = 0.0\\nsamples = 1\\nvalue = [0, 1]'),\n",
              " Text(0.9090909090909091, 0.16666666666666666, 'gini = 0.0\\nsamples = 2\\nvalue = [0, 2]'),\n",
              " Text(0.9545454545454546, 0.3888888888888889, 'X[3] <= 119.0\\ngini = 0.18\\nsamples = 10\\nvalue = [9, 1]'),\n",
              " Text(0.9318181818181818, 0.2777777777777778, 'gini = 0.0\\nsamples = 1\\nvalue = [0, 1]'),\n",
              " Text(0.9772727272727273, 0.2777777777777778, 'gini = 0.0\\nsamples = 9\\nvalue = [9, 0]'),\n",
              " Text(0.6931818181818182, 0.7222222222222222, 'gini = 0.0\\nsamples = 5\\nvalue = [5, 0]')]"
            ]
          },
          "metadata": {},
          "execution_count": 9
        },
        {
          "output_type": "display_data",
          "data": {
            "text/plain": [
              "<Figure size 432x288 with 1 Axes>"
            ],
            "image/png": "[encoded data removed]"
          },
          "metadata": {
            "needs_background": "light"
          }
        }
      ]
    },
    {
      "cell_type": "markdown",
      "source": [
        "support vector machine"
      ],
      "metadata": {
        "id": "dalLi2B2Mh5F"
      }
    },
    {
      "cell_type": "code",
      "source": [
        "from sklearn import svm\n",
        "from sklearn.metrics import accuracy_score\n",
        "cc=svm.SVC(kernel='linear')"
      ],
      "metadata": {
        "id": "yyeRn5NXMhRw"
      },
      "execution_count": 10,
      "outputs": []
    },
    {
      "cell_type": "code",
      "source": [
        "c1=cc.fit(x_train,y_train.values.ravel())"
      ],
      "metadata": {
        "id": "voWe1gAVMwiV"
      },
      "execution_count": 11,
      "outputs": []
    },
    {
      "cell_type": "code",
      "source": [
        "yp=c1.predict(x_test)"
      ],
      "metadata": {
        "id": "cJiHHqVLMnsS"
      },
      "execution_count": 12,
      "outputs": []
    },
    {
      "cell_type": "code",
      "source": [
        "print(accuracy_score(y_test,yp))"
      ],
      "metadata": {
        "colab": {
          "base_uri": "https://localhost:8080/"
        },
        "id": "DI9zYIqTM34K",
        "outputId": "b627c7e2-2c46-4b50-b1e8-b43d6822f154"
      },
      "execution_count": 13,
      "outputs": [
        {
          "output_type": "stream",
          "name": "stdout",
          "text": [
            "0.8360655737704918\n"
          ]
        }
      ]
    },
    {
      "cell_type": "markdown",
      "source": [
        "KNN"
      ],
      "metadata": {
        "id": "J0k0w26sNKo6"
      }
    },
    {
      "cell_type": "code",
      "source": [
        "from sklearn.neighbors import KNeighborsClassifier\n",
        "from sklearn.metrics import accuracy_score\n",
        "kk=KNeighborsClassifier()\n",
        "cc=kk.fit(x_train,y_train.values.ravel())"
      ],
      "metadata": {
        "id": "YajPM8RyNPco"
      },
      "execution_count": 14,
      "outputs": []
    },
    {
      "cell_type": "code",
      "source": [
        "yp=cc.predict(x_test)\n",
        "print(yp)\n",
        "print(y_test)"
      ],
      "metadata": {
        "colab": {
          "base_uri": "https://localhost:8080/"
        },
        "id": "NFmLAApyODYJ",
        "outputId": "0ad8efed-4fdc-4075-80fb-d3f6fa00a3b8"
      },
      "execution_count": 15,
      "outputs": [
        {
          "output_type": "stream",
          "name": "stdout",
          "text": [
            "[0 1 0 0 0 0 1 1 0 1 0 1 0 1 1 1 0 0 0 0 1 1 1 0 1 0 0 0 1 0 0 0 0 0 0 0 0\n",
            " 0 0 1 0 1 1 1 0 1 1 1 0 0 0 0 1 0 1 1 0 0 0 0 0]\n",
            "     target\n",
            "97        1\n",
            "122       1\n",
            "84        1\n",
            "231       0\n",
            "110       1\n",
            "..      ...\n",
            "273       0\n",
            "165       0\n",
            "51        1\n",
            "285       0\n",
            "234       0\n",
            "\n",
            "[61 rows x 1 columns]\n"
          ]
        }
      ]
    },
    {
      "cell_type": "code",
      "source": [
        "print(accuracy_score(yp,y_test))"
      ],
      "metadata": {
        "colab": {
          "base_uri": "https://localhost:8080/"
        },
        "id": "BdCSNf3kOPxW",
        "outputId": "6481a852-f512-423a-a268-7a3735faee2b"
      },
      "execution_count": 16,
      "outputs": [
        {
          "output_type": "stream",
          "name": "stdout",
          "text": [
            "0.6065573770491803\n"
          ]
        }
      ]
    },
    {
      "cell_type": "markdown",
      "source": [
        "Random forest"
      ],
      "metadata": {
        "id": "Ki50VuqbQAJD"
      }
    },
    {
      "cell_type": "code",
      "source": [
        "from sklearn.ensemble import RandomForestClassifier\n",
        "from sklearn.metrics import accuracy_score\n",
        "cls=RandomForestClassifier()\n",
        "cc=cls.fit(x_train,y_train)"
      ],
      "metadata": {
        "colab": {
          "base_uri": "https://localhost:8080/"
        },
        "id": "xCZsYxPoQDiW",
        "outputId": "6587aa4b-4089-4b25-b74c-596c5cb6c286"
      },
      "execution_count": 17,
      "outputs": [
        {
          "output_type": "stream",
          "name": "stderr",
          "text": [
            "/usr/local/lib/python3.7/dist-packages/ipykernel_launcher.py:4: DataConversionWarning: A column-vector y was passed when a 1d array was expected. Please change the shape of y to (n_samples,), for example using ravel().\n",
            "  after removing the cwd from sys.path.\n"
          ]
        }
      ]
    },
    {
      "cell_type": "code",
      "source": [
        "yt=cc.predict(x_test)\n",
        "print(accuracy_score(yt,y_test))"
      ],
      "metadata": {
        "colab": {
          "base_uri": "https://localhost:8080/"
        },
        "id": "wlCoXxXeRT70",
        "outputId": "636d8bc0-b18e-46ac-b096-aaf8b5155a2a"
      },
      "execution_count": 18,
      "outputs": [
        {
          "output_type": "stream",
          "name": "stdout",
          "text": [
            "0.8032786885245902\n"
          ]
        }
      ]
    },
    {
      "cell_type": "markdown",
      "source": [
        "logistic regression"
      ],
      "metadata": {
        "id": "ITNAll2nb-BQ"
      }
    },
    {
      "cell_type": "code",
      "source": [
        "from sklearn.linear_model import LogisticRegression\n",
        "classifier = LogisticRegression(random_state = 0)\n",
        "classifier.fit(x_train, y_train)\n",
        "y_pred = classifier.predict(x_test)"
      ],
      "metadata": {
        "colab": {
          "base_uri": "https://localhost:8080/"
        },
        "id": "Kd18vk3mb4q8",
        "outputId": "10d4a0c5-2d7e-4b0b-c11c-82e97bf72a03"
      },
      "execution_count": 19,
      "outputs": [
        {
          "output_type": "stream",
          "name": "stderr",
          "text": [
            "/usr/local/lib/python3.7/dist-packages/sklearn/utils/validation.py:993: DataConversionWarning: A column-vector y was passed when a 1d array was expected. Please change the shape of y to (n_samples, ), for example using ravel().\n",
            "  y = column_or_1d(y, warn=True)\n",
            "/usr/local/lib/python3.7/dist-packages/sklearn/linear_model/_logistic.py:818: ConvergenceWarning: lbfgs failed to converge (status=1):\n",
            "STOP: TOTAL NO. of ITERATIONS REACHED LIMIT.\n",
            "\n",
            "Increase the number of iterations (max_iter) or scale the data as shown in:\n",
            "    https://scikit-learn.org/stable/modules/preprocessing.html\n",
            "Please also refer to the documentation for alternative solver options:\n",
            "    https://scikit-learn.org/stable/modules/linear_model.html#logistic-regression\n",
            "  extra_warning_msg=_LOGISTIC_SOLVER_CONVERGENCE_MSG,\n"
          ]
        }
      ]
    },
    {
      "cell_type": "code",
      "source": [
        "from sklearn.metrics import accuracy_score\n",
        "print (\"Accuracy : \", accuracy_score(y_test, y_pred))"
      ],
      "metadata": {
        "colab": {
          "base_uri": "https://localhost:8080/"
        },
        "id": "wI3ZVdFycOAe",
        "outputId": "73a860cc-153b-45b7-88bf-cedb72b8aea6"
      },
      "execution_count": 20,
      "outputs": [
        {
          "output_type": "stream",
          "name": "stdout",
          "text": [
            "Accuracy :  0.8688524590163934\n"
          ]
        }
      ]
    }
  ]
}