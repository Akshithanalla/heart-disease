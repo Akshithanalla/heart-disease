{
  "nbformat": 4,
  "nbformat_minor": 0,
  "metadata": {
    "colab": {
      "name": "DT.ipynb",
      "provenance": [],
      "collapsed_sections": []
    },
    "kernelspec": {
      "name": "python3",
      "display_name": "Python 3"
    },
    "language_info": {
      "name": "python"
    }
  },
  "cells": [
    {
      "cell_type": "code",
      "execution_count": 70,
      "metadata": {
        "id": "SEXyxoWZHIzg"
      },
      "outputs": [],
      "source": [
        ""
      ]
    },
    {
      "cell_type": "code",
      "source": [
        "from google.colab import drive\n",
        "drive.mount('/content/drive')"
      ],
      "metadata": {
        "colab": {
          "base_uri": "https://localhost:8080/"
        },
        "id": "LShEA4CEH8kU",
        "outputId": "31b64033-f797-491d-feb4-4ff9427e7a36"
      },
      "execution_count": 71,
      "outputs": [
        {
          "output_type": "stream",
          "name": "stdout",
          "text": [
            "Drive already mounted at /content/drive; to attempt to forcibly remount, call drive.mount(\"/content/drive\", force_remount=True).\n"
          ]
        }
      ]
    },
    {
      "cell_type": "code",
      "source": [
        "import pandas as pd\n",
        "d=pd.read_csv('/content/drive/MyDrive/ heart.csv')"
      ],
      "metadata": {
        "id": "TfH0z01mIfx4"
      },
      "execution_count": 72,
      "outputs": []
    },
    {
      "cell_type": "code",
      "source": [
        "print(d)"
      ],
      "metadata": {
        "colab": {
          "base_uri": "https://localhost:8080/"
        },
        "id": "tn7xXPY_Ipze",
        "outputId": "240d7718-f5ab-4496-b6c7-5882ade0f29f"
      },
      "execution_count": 73,
      "outputs": [
        {
          "output_type": "stream",
          "name": "stdout",
          "text": [
            "     age  sex  cp  trestbps  chol  fbs  restecg  thalach  exang  oldpeak  \\\n",
            "0     63    1   3       145   233    1        0      150      0      2.3   \n",
            "1     37    1   2       130   250    0        1      187      0      3.5   \n",
            "2     41    0   1       130   204    0        0      172      0      1.4   \n",
            "3     56    1   1       120   236    0        1      178      0      0.8   \n",
            "4     57    0   0       120   354    0        1      163      1      0.6   \n",
            "..   ...  ...  ..       ...   ...  ...      ...      ...    ...      ...   \n",
            "298   57    0   0       140   241    0        1      123      1      0.2   \n",
            "299   45    1   3       110   264    0        1      132      0      1.2   \n",
            "300   68    1   0       144   193    1        1      141      0      3.4   \n",
            "301   57    1   0       130   131    0        1      115      1      1.2   \n",
            "302   57    0   1       130   236    0        0      174      0      0.0   \n",
            "\n",
            "     slope  ca  thal  target  \n",
            "0        0   0     1       1  \n",
            "1        0   0     2       1  \n",
            "2        2   0     2       1  \n",
            "3        2   0     2       1  \n",
            "4        2   0     2       1  \n",
            "..     ...  ..   ...     ...  \n",
            "298      1   0     3       0  \n",
            "299      1   0     3       0  \n",
            "300      1   2     3       0  \n",
            "301      1   1     3       0  \n",
            "302      1   1     2       0  \n",
            "\n",
            "[303 rows x 14 columns]\n"
          ]
        }
      ]
    },
    {
      "cell_type": "code",
      "source": [
        "y=d.iloc[:,13:14]\n",
        "x=d.iloc[:,0:13]\n",
        "from sklearn.model_selection import train_test_split\n",
        "x_train,x_test,y_train,y_test=train_test_split(x,y,random_state=30)"
      ],
      "metadata": {
        "id": "OT4BAB37IuJI"
      },
      "execution_count": 74,
      "outputs": []
    },
    {
      "cell_type": "code",
      "source": [
        "print(x_train)"
      ],
      "metadata": {
        "colab": {
          "base_uri": "https://localhost:8080/"
        },
        "id": "QGVWq0-AIuFu",
        "outputId": "41147d82-287c-4ab7-8a66-5d951a42acd9"
      },
      "execution_count": 75,
      "outputs": [
        {
          "output_type": "stream",
          "name": "stdout",
          "text": [
            "     age  sex  cp  trestbps  chol  fbs  restecg  thalach  exang  oldpeak  \\\n",
            "227   35    1   0       120   198    0        1      130      1      1.6   \n",
            "228   59    1   3       170   288    0        0      159      0      0.2   \n",
            "205   52    1   0       128   255    0        1      161      1      0.0   \n",
            "182   61    0   0       130   330    0        0      169      0      0.0   \n",
            "288   57    1   0       110   335    0        1      143      1      3.0   \n",
            "..   ...  ...  ..       ...   ...  ...      ...      ...    ...      ...   \n",
            "145   70    1   1       156   245    0        0      143      0      0.0   \n",
            "251   43    1   0       132   247    1        0      143      1      0.1   \n",
            "140   51    0   2       120   295    0        0      157      0      0.6   \n",
            "301   57    1   0       130   131    0        1      115      1      1.2   \n",
            "293   67    1   2       152   212    0        0      150      0      0.8   \n",
            "\n",
            "     slope  ca  thal  \n",
            "227      1   0     3  \n",
            "228      1   0     3  \n",
            "205      2   1     3  \n",
            "182      2   0     2  \n",
            "288      1   1     3  \n",
            "..     ...  ..   ...  \n",
            "145      2   0     2  \n",
            "251      1   4     3  \n",
            "140      2   0     2  \n",
            "301      1   1     3  \n",
            "293      1   0     3  \n",
            "\n",
            "[227 rows x 13 columns]\n"
          ]
        }
      ]
    },
    {
      "cell_type": "code",
      "source": [
        "from sklearn.tree import DecisionTreeClassifier\n",
        "from sklearn.metrics import accuracy_score\n",
        "cls=DecisionTreeClassifier()\n",
        "cc=cls.fit(x_train,y_train)"
      ],
      "metadata": {
        "id": "10J-6PGlLHkJ"
      },
      "execution_count": 76,
      "outputs": []
    },
    {
      "cell_type": "code",
      "source": [
        "yt=cc.predict(x_test)\n",
        "print(accuracy_score(yt,y_test))"
      ],
      "metadata": {
        "colab": {
          "base_uri": "https://localhost:8080/"
        },
        "id": "_PGxOHvgLoA6",
        "outputId": "1dc8bec4-435f-4f37-c8bd-fff2bb25215b"
      },
      "execution_count": 77,
      "outputs": [
        {
          "output_type": "stream",
          "name": "stdout",
          "text": [
            "0.7236842105263158\n"
          ]
        }
      ]
    },
    {
      "cell_type": "markdown",
      "source": [
        "support vector machine"
      ],
      "metadata": {
        "id": "dalLi2B2Mh5F"
      }
    },
    {
      "cell_type": "code",
      "source": [
        "from sklearn import svm\n",
        "from sklearn.metrics import accuracy_score\n",
        "cc=svm.SVC(kernel='linear')"
      ],
      "metadata": {
        "id": "yyeRn5NXMhRw"
      },
      "execution_count": 78,
      "outputs": []
    },
    {
      "cell_type": "code",
      "source": [
        "c1=cc.fit(x_train,y_train.values.ravel())"
      ],
      "metadata": {
        "id": "voWe1gAVMwiV"
      },
      "execution_count": 79,
      "outputs": []
    },
    {
      "cell_type": "code",
      "source": [
        "yp=c1.predict(x_test)"
      ],
      "metadata": {
        "id": "cJiHHqVLMnsS"
      },
      "execution_count": 80,
      "outputs": []
    },
    {
      "cell_type": "code",
      "source": [
        "print(accuracy_score(y_test,yp))"
      ],
      "metadata": {
        "colab": {
          "base_uri": "https://localhost:8080/"
        },
        "id": "DI9zYIqTM34K",
        "outputId": "5a592b2d-4669-4ba2-c0a8-e53525e82c83"
      },
      "execution_count": 81,
      "outputs": [
        {
          "output_type": "stream",
          "name": "stdout",
          "text": [
            "0.868421052631579\n"
          ]
        }
      ]
    },
    {
      "cell_type": "markdown",
      "source": [
        "KNN"
      ],
      "metadata": {
        "id": "J0k0w26sNKo6"
      }
    },
    {
      "cell_type": "code",
      "source": [
        "from sklearn.neighbors import KNeighborsClassifier\n",
        "from sklearn.metrics import accuracy_score\n",
        "kk=KNeighborsClassifier()\n",
        "cc=kk.fit(x_train,y_train.values.ravel())"
      ],
      "metadata": {
        "id": "YajPM8RyNPco"
      },
      "execution_count": 82,
      "outputs": []
    },
    {
      "cell_type": "code",
      "source": [
        "yp=cc.predict(x_test)\n",
        "print(yp)\n",
        "print(y_test)"
      ],
      "metadata": {
        "colab": {
          "base_uri": "https://localhost:8080/"
        },
        "id": "NFmLAApyODYJ",
        "outputId": "4da2a090-a32d-476d-de5d-8144ac761368"
      },
      "execution_count": 83,
      "outputs": [
        {
          "output_type": "stream",
          "name": "stdout",
          "text": [
            "[0 1 0 0 0 0 1 1 0 1 0 1 0 1 1 1 0 0 0 0 1 1 1 0 1 0 0 0 1 0 0 0 0 0 0 0 0\n",
            " 0 0 1 0 1 1 1 0 0 1 1 0 0 0 0 1 0 1 1 0 0 0 0 0 0 1 0 1 1 1 0 1 1 1 0 0 1\n",
            " 1 0]\n",
            "     target\n",
            "97        1\n",
            "122       1\n",
            "84        1\n",
            "231       0\n",
            "110       1\n",
            "..      ...\n",
            "289       0\n",
            "278       0\n",
            "209       0\n",
            "114       1\n",
            "170       0\n",
            "\n",
            "[76 rows x 1 columns]\n"
          ]
        }
      ]
    },
    {
      "cell_type": "code",
      "source": [
        "print(accuracy_score(yp,y_test))"
      ],
      "metadata": {
        "colab": {
          "base_uri": "https://localhost:8080/"
        },
        "id": "BdCSNf3kOPxW",
        "outputId": "53083ce0-1c90-4515-ac95-f054e53d7167"
      },
      "execution_count": 84,
      "outputs": [
        {
          "output_type": "stream",
          "name": "stdout",
          "text": [
            "0.631578947368421\n"
          ]
        }
      ]
    },
    {
      "cell_type": "markdown",
      "source": [
        "Random forest"
      ],
      "metadata": {
        "id": "Ki50VuqbQAJD"
      }
    },
    {
      "cell_type": "code",
      "source": [
        "from sklearn.ensemble import RandomForestClassifier\n",
        "from sklearn.metrics import accuracy_score\n",
        "cls=RandomForestClassifier()\n",
        "cc=cls.fit(x_train,y_train)"
      ],
      "metadata": {
        "colab": {
          "base_uri": "https://localhost:8080/"
        },
        "id": "xCZsYxPoQDiW",
        "outputId": "46ce045b-2ca9-489d-f2a4-cc608fb3a2b7"
      },
      "execution_count": 86,
      "outputs": [
        {
          "output_type": "stream",
          "name": "stderr",
          "text": [
            "/usr/local/lib/python3.7/dist-packages/ipykernel_launcher.py:4: DataConversionWarning: A column-vector y was passed when a 1d array was expected. Please change the shape of y to (n_samples,), for example using ravel().\n",
            "  after removing the cwd from sys.path.\n"
          ]
        }
      ]
    },
    {
      "cell_type": "code",
      "source": [
        "yt=cc.predict(x_test)\n",
        "print(accuracy_score(yt,y_test))"
      ],
      "metadata": {
        "colab": {
          "base_uri": "https://localhost:8080/"
        },
        "id": "wlCoXxXeRT70",
        "outputId": "050a028b-14b7-4a9c-ac15-2d986313afc0"
      },
      "execution_count": 87,
      "outputs": [
        {
          "output_type": "stream",
          "name": "stdout",
          "text": [
            "0.8157894736842105\n"
          ]
        }
      ]
    }
  ]
}